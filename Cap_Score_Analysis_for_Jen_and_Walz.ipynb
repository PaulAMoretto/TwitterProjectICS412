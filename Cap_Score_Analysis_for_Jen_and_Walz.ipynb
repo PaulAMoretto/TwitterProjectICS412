{
  "nbformat": 4,
  "nbformat_minor": 0,
  "metadata": {
    "colab": {
      "provenance": []
    },
    "kernelspec": {
      "name": "python3",
      "display_name": "Python 3"
    },
    "language_info": {
      "name": "python"
    }
  },
  "cells": [
    {
      "cell_type": "code",
      "execution_count": null,
      "metadata": {
        "colab": {
          "base_uri": "https://localhost:8080/",
          "height": 107
        },
        "id": "_-ZKx_wQadHE",
        "outputId": "7516c154-508c-464b-82fc-a37e5898cfeb"
      },
      "outputs": [
        {
          "output_type": "display_data",
          "data": {
            "text/plain": [
              "<IPython.core.display.HTML object>"
            ],
            "text/html": [
              "\n",
              "     <input type=\"file\" id=\"files-fce38415-24ca-43bf-8a86-377d28fe5c3a\" name=\"files[]\" multiple disabled\n",
              "        style=\"border:none\" />\n",
              "     <output id=\"result-fce38415-24ca-43bf-8a86-377d28fe5c3a\">\n",
              "      Upload widget is only available when the cell has been executed in the\n",
              "      current browser session. Please rerun this cell to enable.\n",
              "      </output>\n",
              "      <script>// Copyright 2017 Google LLC\n",
              "//\n",
              "// Licensed under the Apache License, Version 2.0 (the \"License\");\n",
              "// you may not use this file except in compliance with the License.\n",
              "// You may obtain a copy of the License at\n",
              "//\n",
              "//      http://www.apache.org/licenses/LICENSE-2.0\n",
              "//\n",
              "// Unless required by applicable law or agreed to in writing, software\n",
              "// distributed under the License is distributed on an \"AS IS\" BASIS,\n",
              "// WITHOUT WARRANTIES OR CONDITIONS OF ANY KIND, either express or implied.\n",
              "// See the License for the specific language governing permissions and\n",
              "// limitations under the License.\n",
              "\n",
              "/**\n",
              " * @fileoverview Helpers for google.colab Python module.\n",
              " */\n",
              "(function(scope) {\n",
              "function span(text, styleAttributes = {}) {\n",
              "  const element = document.createElement('span');\n",
              "  element.textContent = text;\n",
              "  for (const key of Object.keys(styleAttributes)) {\n",
              "    element.style[key] = styleAttributes[key];\n",
              "  }\n",
              "  return element;\n",
              "}\n",
              "\n",
              "// Max number of bytes which will be uploaded at a time.\n",
              "const MAX_PAYLOAD_SIZE = 100 * 1024;\n",
              "\n",
              "function _uploadFiles(inputId, outputId) {\n",
              "  const steps = uploadFilesStep(inputId, outputId);\n",
              "  const outputElement = document.getElementById(outputId);\n",
              "  // Cache steps on the outputElement to make it available for the next call\n",
              "  // to uploadFilesContinue from Python.\n",
              "  outputElement.steps = steps;\n",
              "\n",
              "  return _uploadFilesContinue(outputId);\n",
              "}\n",
              "\n",
              "// This is roughly an async generator (not supported in the browser yet),\n",
              "// where there are multiple asynchronous steps and the Python side is going\n",
              "// to poll for completion of each step.\n",
              "// This uses a Promise to block the python side on completion of each step,\n",
              "// then passes the result of the previous step as the input to the next step.\n",
              "function _uploadFilesContinue(outputId) {\n",
              "  const outputElement = document.getElementById(outputId);\n",
              "  const steps = outputElement.steps;\n",
              "\n",
              "  const next = steps.next(outputElement.lastPromiseValue);\n",
              "  return Promise.resolve(next.value.promise).then((value) => {\n",
              "    // Cache the last promise value to make it available to the next\n",
              "    // step of the generator.\n",
              "    outputElement.lastPromiseValue = value;\n",
              "    return next.value.response;\n",
              "  });\n",
              "}\n",
              "\n",
              "/**\n",
              " * Generator function which is called between each async step of the upload\n",
              " * process.\n",
              " * @param {string} inputId Element ID of the input file picker element.\n",
              " * @param {string} outputId Element ID of the output display.\n",
              " * @return {!Iterable<!Object>} Iterable of next steps.\n",
              " */\n",
              "function* uploadFilesStep(inputId, outputId) {\n",
              "  const inputElement = document.getElementById(inputId);\n",
              "  inputElement.disabled = false;\n",
              "\n",
              "  const outputElement = document.getElementById(outputId);\n",
              "  outputElement.innerHTML = '';\n",
              "\n",
              "  const pickedPromise = new Promise((resolve) => {\n",
              "    inputElement.addEventListener('change', (e) => {\n",
              "      resolve(e.target.files);\n",
              "    });\n",
              "  });\n",
              "\n",
              "  const cancel = document.createElement('button');\n",
              "  inputElement.parentElement.appendChild(cancel);\n",
              "  cancel.textContent = 'Cancel upload';\n",
              "  const cancelPromise = new Promise((resolve) => {\n",
              "    cancel.onclick = () => {\n",
              "      resolve(null);\n",
              "    };\n",
              "  });\n",
              "\n",
              "  // Wait for the user to pick the files.\n",
              "  const files = yield {\n",
              "    promise: Promise.race([pickedPromise, cancelPromise]),\n",
              "    response: {\n",
              "      action: 'starting',\n",
              "    }\n",
              "  };\n",
              "\n",
              "  cancel.remove();\n",
              "\n",
              "  // Disable the input element since further picks are not allowed.\n",
              "  inputElement.disabled = true;\n",
              "\n",
              "  if (!files) {\n",
              "    return {\n",
              "      response: {\n",
              "        action: 'complete',\n",
              "      }\n",
              "    };\n",
              "  }\n",
              "\n",
              "  for (const file of files) {\n",
              "    const li = document.createElement('li');\n",
              "    li.append(span(file.name, {fontWeight: 'bold'}));\n",
              "    li.append(span(\n",
              "        `(${file.type || 'n/a'}) - ${file.size} bytes, ` +\n",
              "        `last modified: ${\n",
              "            file.lastModifiedDate ? file.lastModifiedDate.toLocaleDateString() :\n",
              "                                    'n/a'} - `));\n",
              "    const percent = span('0% done');\n",
              "    li.appendChild(percent);\n",
              "\n",
              "    outputElement.appendChild(li);\n",
              "\n",
              "    const fileDataPromise = new Promise((resolve) => {\n",
              "      const reader = new FileReader();\n",
              "      reader.onload = (e) => {\n",
              "        resolve(e.target.result);\n",
              "      };\n",
              "      reader.readAsArrayBuffer(file);\n",
              "    });\n",
              "    // Wait for the data to be ready.\n",
              "    let fileData = yield {\n",
              "      promise: fileDataPromise,\n",
              "      response: {\n",
              "        action: 'continue',\n",
              "      }\n",
              "    };\n",
              "\n",
              "    // Use a chunked sending to avoid message size limits. See b/62115660.\n",
              "    let position = 0;\n",
              "    do {\n",
              "      const length = Math.min(fileData.byteLength - position, MAX_PAYLOAD_SIZE);\n",
              "      const chunk = new Uint8Array(fileData, position, length);\n",
              "      position += length;\n",
              "\n",
              "      const base64 = btoa(String.fromCharCode.apply(null, chunk));\n",
              "      yield {\n",
              "        response: {\n",
              "          action: 'append',\n",
              "          file: file.name,\n",
              "          data: base64,\n",
              "        },\n",
              "      };\n",
              "\n",
              "      let percentDone = fileData.byteLength === 0 ?\n",
              "          100 :\n",
              "          Math.round((position / fileData.byteLength) * 100);\n",
              "      percent.textContent = `${percentDone}% done`;\n",
              "\n",
              "    } while (position < fileData.byteLength);\n",
              "  }\n",
              "\n",
              "  // All done.\n",
              "  yield {\n",
              "    response: {\n",
              "      action: 'complete',\n",
              "    }\n",
              "  };\n",
              "}\n",
              "\n",
              "scope.google = scope.google || {};\n",
              "scope.google.colab = scope.google.colab || {};\n",
              "scope.google.colab._files = {\n",
              "  _uploadFiles,\n",
              "  _uploadFilesContinue,\n",
              "};\n",
              "})(self);\n",
              "</script> "
            ]
          },
          "metadata": {}
        },
        {
          "output_type": "stream",
          "name": "stdout",
          "text": [
            "Saving ScoresBotstestWalz1 - ScoresBotstestWalz1.csv to ScoresBotstestWalz1 - ScoresBotstestWalz1.csv\n",
            "Saving ScoresBotstestJen1 - ScoresBotstestJen1.csv to ScoresBotstestJen1 - ScoresBotstestJen1 (3).csv\n"
          ]
        }
      ],
      "source": [
        "import pandas as pd\n",
        "import numpy as np\n",
        "import matplotlib\n",
        "import matplotlib.pyplot as plt\n",
        "\n",
        "from google.colab import files\n",
        "uploaded = files.upload()"
      ]
    },
    {
      "cell_type": "code",
      "source": [
        "df = pd.read_csv(\"ScoresBotstestJen1 - ScoresBotstestJen1 (2).csv\")\n",
        "df1 = pd.DataFrame(df).dropna(axis=1,how='all')\n",
        "df2 = pd.read_csv(\"ScoresBotstestWalz1 - ScoresBotstestWalz1.csv\")\n",
        "dfwalz = pd.DataFrame(df2).dropna(axis=1,how='all')"
      ],
      "metadata": {
        "id": "dedfw8iSa8TU"
      },
      "execution_count": null,
      "outputs": []
    },
    {
      "cell_type": "code",
      "source": [
        "#Jenz Statistics\n",
        "capScore = pd.Series(df1['CAP'])\n",
        "\n",
        "counter = capScore.count()\n",
        "minimum = capScore.min()\n",
        "maximum = capScore.max()\n",
        "range = maximum - minimum\n",
        "mean = round(capScore.mean(),2)\n",
        "median = capScore.median()\n",
        "mode = capScore.mode()[0]\n",
        "variance = round(capScore.var(),2)\n",
        "stdDev = round(capScore.std(),2)\n",
        "\n",
        "print('Count of: ', counter)\n",
        "print('Minimum: ', minimum)\n",
        "print('Maximum: ', maximum)\n",
        "print('Range: ', range)\n",
        "print('Mean: ', mean)\n",
        "print('Median: ', median)\n",
        "print('Mode: ', mode)\n",
        "print('Variance: ', variance)\n",
        "print('Standard Deviation: ', stdDev)"
      ],
      "metadata": {
        "colab": {
          "base_uri": "https://localhost:8080/"
        },
        "id": "Sf7oIbZzxUJA",
        "outputId": "cd01e658-d948-4f9a-e1b2-f5c919117759"
      },
      "execution_count": null,
      "outputs": [
        {
          "output_type": "stream",
          "name": "stdout",
          "text": [
            "Count of:  335\n",
            "Minimum:  0.226318\n",
            "Maximum:  0.923535\n",
            "Range:  0.697217\n",
            "Mean:  0.68\n",
            "Median:  0.771781\n",
            "Mode:  0.600488\n",
            "Variance:  0.03\n",
            "Standard Deviation:  0.18\n"
          ]
        }
      ]
    },
    {
      "cell_type": "code",
      "source": [
        "#Walz Statistics\n",
        "capScoreWalz = pd.Series(dfwalz['CAP'])\n",
        "\n",
        "counter = capScoreWalz.count()\n",
        "minimum = capScoreWalz.min()\n",
        "maximum = capScoreWalz.max()\n",
        "range = maximum - minimum\n",
        "mean = round(capScoreWalz.mean(),2)\n",
        "median = capScoreWalz.median()\n",
        "mode = capScoreWalz.mode()[0]\n",
        "variance = round(capScoreWalz.var(),2)\n",
        "stdDev = round(capScoreWalz.std(),2)\n",
        "\n",
        "print('Count of: ', counter)\n",
        "print('Minimum: ', minimum)\n",
        "print('Maximum: ', maximum)\n",
        "print('Range: ', range)\n",
        "print('Mean: ', mean)\n",
        "print('Median: ', median)\n",
        "print('Mode: ', mode)\n",
        "print('Variance: ', variance)\n",
        "print('Standard Deviation: ', stdDev)"
      ],
      "metadata": {
        "colab": {
          "base_uri": "https://localhost:8080/"
        },
        "id": "UTkaAqIhxaeG",
        "outputId": "1b409dad-c9b9-4dcd-aa36-43f4ec862eda"
      },
      "execution_count": null,
      "outputs": [
        {
          "output_type": "stream",
          "name": "stdout",
          "text": [
            "Count of:  442\n",
            "Minimum:  0.226318\n",
            "Maximum:  0.937363\n",
            "Range:  0.7110449999999999\n",
            "Mean:  0.59\n",
            "Median:  0.641418\n",
            "Mode:  0.278725\n",
            "Variance:  0.04\n",
            "Standard Deviation:  0.21\n"
          ]
        }
      ]
    },
    {
      "cell_type": "code",
      "source": [
        "def map_bot_likelihood(cap):\n",
        "    if cap < .45:\n",
        "        return 'Low'\n",
        "    elif cap >= .45 and cap <= .75:\n",
        "        return 'Medium'\n",
        "    else:\n",
        "        return 'High'\n",
        "\n",
        "df1['bot_likelihood'] = df1['CAP'].apply(map_bot_likelihood)\n",
        "dfwalz['bot_likelihood'] = dfwalz['CAP'].apply(map_bot_likelihood)"
      ],
      "metadata": {
        "id": "7s16npWgcSdh"
      },
      "execution_count": null,
      "outputs": []
    },
    {
      "cell_type": "code",
      "source": [
        "bot_likelihood_count = df1['bot_likelihood'].value_counts()\n",
        "plt.bar(bot_likelihood_count.index, bot_likelihood_count.values)\n",
        "plt.title(\"Bot Likelihood for Jen\")\n"
      ],
      "metadata": {
        "colab": {
          "base_uri": "https://localhost:8080/",
          "height": 469
        },
        "id": "_zm2GiWxpu7Y",
        "outputId": "07c706a9-c534-4d1d-9db5-91e45dbadd20"
      },
      "execution_count": null,
      "outputs": [
        {
          "output_type": "execute_result",
          "data": {
            "text/plain": [
              "Text(0.5, 1.0, 'Bot Likelihood for Jen')"
            ]
          },
          "metadata": {},
          "execution_count": 44
        },
        {
          "output_type": "display_data",
          "data": {
            "text/plain": [
              "<Figure size 640x480 with 1 Axes>"
            ],
            "image/png": "[encoded data removed]"
          },
          "metadata": {}
        }
      ]
    },
    {
      "cell_type": "code",
      "source": [
        "bot_likelihood_count_Walz = dfwalz['bot_likelihood'].value_counts()\n",
        "plt.bar(bot_likelihood_count_Walz.index, bot_likelihood_count_Walz.values)\n",
        "plt.title(\"Bot Likelihood for Walz\")"
      ],
      "metadata": {
        "colab": {
          "base_uri": "https://localhost:8080/",
          "height": 469
        },
        "id": "6mDAc8tvvOgx",
        "outputId": "8defe1b2-d720-4469-904c-eaa0816ce2d5"
      },
      "execution_count": null,
      "outputs": [
        {
          "output_type": "execute_result",
          "data": {
            "text/plain": [
              "Text(0.5, 1.0, 'Bot Likelihood for Walz')"
            ]
          },
          "metadata": {},
          "execution_count": 52
        },
        {
          "output_type": "display_data",
          "data": {
            "text/plain": [
              "<Figure size 640x480 with 1 Axes>"
            ],
            "image/png": "[encoded data removed]"
          },
          "metadata": {}
        }
      ]
    },
    {
      "cell_type": "code",
      "source": [
        "plt.hist(df1['CAP'])\n",
        "plt.title(\"Histogram for Jenz\")"
      ],
      "metadata": {
        "colab": {
          "base_uri": "https://localhost:8080/",
          "height": 469
        },
        "id": "f3gvZJUguABe",
        "outputId": "ea6fd747-dc0a-4489-cd62-ad8d6cee29c0"
      },
      "execution_count": null,
      "outputs": [
        {
          "output_type": "execute_result",
          "data": {
            "text/plain": [
              "Text(0.5, 1.0, 'Histogram for Jenz')"
            ]
          },
          "metadata": {},
          "execution_count": 53
        },
        {
          "output_type": "display_data",
          "data": {
            "text/plain": [
              "<Figure size 640x480 with 1 Axes>"
            ],
            "image/png": "[encoded data removed]"
          },
          "metadata": {}
        }
      ]
    },
    {
      "cell_type": "code",
      "source": [
        "plt.hist(dfwalz['CAP'])\n",
        "plt.title(\"Histogram for Walz\")"
      ],
      "metadata": {
        "colab": {
          "base_uri": "https://localhost:8080/",
          "height": 469
        },
        "id": "0NvkbI3wvt_h",
        "outputId": "c12081a6-34e2-4b0f-cf09-a24312f0b546"
      },
      "execution_count": null,
      "outputs": [
        {
          "output_type": "execute_result",
          "data": {
            "text/plain": [
              "Text(0.5, 1.0, 'Histogram for Walz')"
            ]
          },
          "metadata": {},
          "execution_count": 54
        },
        {
          "output_type": "display_data",
          "data": {
            "text/plain": [
              "<Figure size 640x480 with 1 Axes>"
            ],
            "image/png": "[encoded data removed]"
          },
          "metadata": {}
        }
      ]
    }
  ]
}