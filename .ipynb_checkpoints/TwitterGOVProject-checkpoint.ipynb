{
 "cells": [
  {
   "cell_type": "code",
   "execution_count": 5,
   "metadata": {},
   "outputs": [],
   "source": [
    "#@Title This is a project to better understand probable bot influence in the MN Governor's 2022 Election\n",
    "#This project's goal is to better understand the incorporation of twitter bot in the retweets of the candidates for Minnesota Governor in 2022.\n",
    "#The project looks to gather a sample of tweets from both Gov. Walz and Cand. Jenesen, with retweetes of more than 100 between July and November of 2022.\n",
    "#The project will take up to 100 retweet samples from each of the 10 select samples of tweets and pass each user to the BOTOMETER API https://botometer.osome.iu.edu/api.\n",
    "#We will then analyze each user to determine the probability of a bot up to a CI>.90.\n",
    "#A test will be preformed to measure the likelyhood of Jensen or Walz having more possible bots.\n",
    "#Our next step will be to try to analyze the likeliness of the bot network by taking a sample of possible bot found in the previous analysis\n",
    "#and preforming the same procedures use above on the bot followers. "
   ]
  },
  {
   "cell_type": "code",
   "execution_count": 6,
   "metadata": {},
   "outputs": [],
   "source": [
    "#@Title Script to load the Twitter API loggin credentials. "
   ]
  },
  {
   "cell_type": "code",
   "execution_count": 7,
   "metadata": {},
   "outputs": [],
   "source": [
    "import tweepy\n",
    "import csv\n",
    "import datetime\n",
    "import pandas as pd\n",
    "# list of all tweet Ids for the retweet analysis.\n",
    "JenList = [1560704006892265472,1559274903798439936,1583115219035127811,1583867638773878791,1584350979159658497,1589789849384411137]\n",
    "WalzList =[1584597890617724928 ,1585694736786096128,1589970730493808641,1590431641587286016]"
   ]
  },
  {
   "cell_type": "code",
   "execution_count": null,
   "metadata": {},
   "outputs": [],
   "source": [
    "#load API for Tweepy and check for valid credentials\n",
    "\n",
    "auth = tweepy.OAuthHandler(consumer_key, consumer_secret)\n",
    "auth.set_access_token(access_token,access_secret)\n",
    "api = tweepy.API(auth, wait_on_rate_limit=True)\n",
    "if api.verify_credentials() == False:\n",
    "    print(\"The user credentials are invalid.\")\n",
    "else:\n",
    "    print(\"The user credentials are valid.\")"
   ]
  },
  {
   "cell_type": "code",
   "execution_count": null,
   "metadata": {},
   "outputs": [],
   "source": [
    "#load API for Botometer\n",
    "import botometer\n",
    "rapidapi_key = ''\n",
    "twitter_app_auth = {\n",
    "    'consumer_key': \"\",\n",
    "    'consumer_secret': \"\",\n",
    "    'access_token': \"\",\n",
    "    'access_token_secret': \"\",\n",
    "  }\n",
    "bom = botometer.Botometer(wait_on_ratelimit=True,\n",
    "                          rapidapi_key=rapidapi_key,\n",
    "                          **twitter_app_auth)"
   ]
  },
  {
   "cell_type": "code",
   "execution_count": null,
   "metadata": {},
   "outputs": [],
   "source": [
    "#Check to see if the access credentials are valid\n",
    "if api.verify_credentials() == False:\n",
    "    print(\"The user credentials are invalid.\")\n",
    "else:\n",
    "    print(\"The user credentials are valid.\")"
   ]
  }
 ],
 "metadata": {
  "kernelspec": {
   "display_name": "Python 3",
   "language": "python",
   "name": "python3"
  },
  "language_info": {
   "codemirror_mode": {
    "name": "ipython",
    "version": 3
   },
   "file_extension": ".py",
   "mimetype": "text/x-python",
   "name": "python",
   "nbconvert_exporter": "python",
   "pygments_lexer": "ipython3",
   "version": "3.7.1"
  }
 },
 "nbformat": 4,
 "nbformat_minor": 2
}
